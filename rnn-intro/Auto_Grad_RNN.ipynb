{
 "cells": [
  {
   "cell_type": "code",
   "execution_count": 1,
   "id": "865e3300-93dc-4209-8b60-c3acb5e32238",
   "metadata": {},
   "outputs": [],
   "source": [
    "import torch"
   ]
  },
  {
   "cell_type": "code",
   "execution_count": 2,
   "id": "d0027633-28ad-4d49-9326-0f9f22ff22ad",
   "metadata": {},
   "outputs": [],
   "source": [
    "a = torch.tensor([2.], requires_grad = True)\n",
    "b = torch.tensor([4.], requires_grad = True)"
   ]
  },
  {
   "cell_type": "code",
   "execution_count": 3,
   "id": "b1df8afd-bd89-47a3-8502-9f1a4bc6f07c",
   "metadata": {},
   "outputs": [],
   "source": [
    "L = 2*a**2 -4*b**2"
   ]
  },
  {
   "cell_type": "code",
   "execution_count": 4,
   "id": "764b6e7d-7eb8-41e5-ba90-fc95ed08661e",
   "metadata": {},
   "outputs": [],
   "source": [
    "L.backward() #the function backward will compute the gradient and save the gradient in the variables that requires gradient"
   ]
  },
  {
   "cell_type": "code",
   "execution_count": 6,
   "id": "4e36e4c4-b4d2-41f3-a854-b5cfcc83aebb",
   "metadata": {},
   "outputs": [
    {
     "data": {
      "text/plain": [
       "tensor([8.])"
      ]
     },
     "execution_count": 6,
     "metadata": {},
     "output_type": "execute_result"
    }
   ],
   "source": [
    "a.grad.data"
   ]
  },
  {
   "cell_type": "code",
   "execution_count": 7,
   "id": "558daa33-98ac-47c8-9677-cd49027b9743",
   "metadata": {},
   "outputs": [
    {
     "name": "stdout",
     "output_type": "stream",
     "text": [
      "tensor([8.]) tensor([-32.])\n"
     ]
    }
   ],
   "source": [
    "print(a.grad.data,b.grad.data)"
   ]
  },
  {
   "cell_type": "code",
   "execution_count": null,
   "id": "9ce911a5-6284-45a4-ad74-775168bc209a",
   "metadata": {},
   "outputs": [],
   "source": []
  }
 ],
 "metadata": {
  "kernelspec": {
   "display_name": "Python 3 (ipykernel)",
   "language": "python",
   "name": "python3"
  },
  "language_info": {
   "codemirror_mode": {
    "name": "ipython",
    "version": 3
   },
   "file_extension": ".py",
   "mimetype": "text/x-python",
   "name": "python",
   "nbconvert_exporter": "python",
   "pygments_lexer": "ipython3",
   "version": "3.12.0"
  }
 },
 "nbformat": 4,
 "nbformat_minor": 5
}
