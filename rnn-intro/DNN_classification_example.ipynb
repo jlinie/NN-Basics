{
 "cells": [
  {
   "cell_type": "code",
   "execution_count": 15,
   "id": "d16d725d-a991-4990-960b-a13bd944e2c7",
   "metadata": {},
   "outputs": [],
   "source": [
    "from torchvision import datasets\n",
    "from torchvision import transforms\n",
    "import torch\n",
    "import torch.nn as nn\n",
    "import numpy as np\n",
    "\n",
    "from torch.utils.data import TensorDataset, DataLoader"
   ]
  },
  {
   "cell_type": "code",
   "execution_count": 2,
   "id": "60719310-1800-4f84-982f-4031e9a40cf7",
   "metadata": {},
   "outputs": [
    {
     "name": "stdout",
     "output_type": "stream",
     "text": [
      "Downloading https://www.cs.toronto.edu/~kriz/cifar-10-python.tar.gz to ./Data_cfar10/cifar-10-python.tar.gz\n"
     ]
    },
    {
     "name": "stderr",
     "output_type": "stream",
     "text": [
      "100.0%\n"
     ]
    },
    {
     "name": "stdout",
     "output_type": "stream",
     "text": [
      "Extracting ./Data_cfar10/cifar-10-python.tar.gz to ./Data_cfar10\n",
      "Files already downloaded and verified\n"
     ]
    }
   ],
   "source": [
    "rootdir = './Data_cfar10'\n",
    "T=datasets.CIFAR10(rootdir,train=True,download=True)\n",
    "V=datasets.CIFAR10(rootdir,train=False,download=True)\n"
   ]
  },
  {
   "cell_type": "code",
   "execution_count": 3,
   "id": "1ef612b7-cbc8-44a1-b626-efc549849a48",
   "metadata": {},
   "outputs": [
    {
     "data": {
      "text/plain": [
       "50000"
      ]
     },
     "execution_count": 3,
     "metadata": {},
     "output_type": "execute_result"
    }
   ],
   "source": [
    "len(T)"
   ]
  },
  {
   "cell_type": "code",
   "execution_count": 4,
   "id": "d282aa94-d9de-4720-b123-c44ffd84de39",
   "metadata": {},
   "outputs": [
    {
     "data": {
      "text/plain": [
       "10000"
      ]
     },
     "execution_count": 4,
     "metadata": {},
     "output_type": "execute_result"
    }
   ],
   "source": [
    "len(V)"
   ]
  },
  {
   "cell_type": "code",
   "execution_count": 7,
   "id": "096b056a-0964-475e-8f11-b6f4a5da56bc",
   "metadata": {},
   "outputs": [
    {
     "data": {
      "text/plain": [
       "torchvision.datasets.cifar.CIFAR10"
      ]
     },
     "execution_count": 7,
     "metadata": {},
     "output_type": "execute_result"
    }
   ],
   "source": [
    "type(T)"
   ]
  },
  {
   "cell_type": "code",
   "execution_count": 8,
   "id": "dc93aae2-0282-4fc5-8310-edee3c55807e",
   "metadata": {},
   "outputs": [],
   "source": [
    "X,y = T[12]"
   ]
  },
  {
   "cell_type": "code",
   "execution_count": 9,
   "id": "e7b1e09d-9477-4c86-93ea-e07adfeb54cd",
   "metadata": {},
   "outputs": [
    {
     "data": {
      "image/jpeg": "[encoded data removed]",
      "image/png": "[encoded data removed]",
      "text/plain": [
       "<PIL.Image.Image image mode=RGB size=32x32>"
      ]
     },
     "execution_count": 9,
     "metadata": {},
     "output_type": "execute_result"
    }
   ],
   "source": [
    "X"
   ]
  },
  {
   "cell_type": "code",
   "execution_count": 10,
   "id": "a3a4a172-748d-4ea4-a7be-a49e6f98b98f",
   "metadata": {},
   "outputs": [
    {
     "data": {
      "text/plain": [
       "'horse'"
      ]
     },
     "execution_count": 10,
     "metadata": {},
     "output_type": "execute_result"
    }
   ],
   "source": [
    "T.classes[y]"
   ]
  },
  {
   "cell_type": "code",
   "execution_count": 11,
   "id": "74d0e718-02f2-4a0f-b524-8348fe2d342a",
   "metadata": {},
   "outputs": [
    {
     "data": {
      "text/plain": [
       "(32, 32, 3)"
      ]
     },
     "execution_count": 11,
     "metadata": {},
     "output_type": "execute_result"
    }
   ],
   "source": [
    "np.array(X).shape"
   ]
  },
  {
   "cell_type": "code",
   "execution_count": 12,
   "id": "99a1d26f-bdc7-4f23-bd1c-25f63af875e8",
   "metadata": {},
   "outputs": [
    {
     "data": {
      "text/plain": [
       "3072"
      ]
     },
     "execution_count": 12,
     "metadata": {},
     "output_type": "execute_result"
    }
   ],
   "source": [
    "32*32*3 #vector correspondng this image"
   ]
  },
  {
   "cell_type": "code",
   "execution_count": 13,
   "id": "43b58dbb-1a07-4395-9f53-4379243a0af3",
   "metadata": {},
   "outputs": [
    {
     "name": "stdout",
     "output_type": "stream",
     "text": [
      "Files already downloaded and verified\n",
      "Files already downloaded and verified\n"
     ]
    }
   ],
   "source": [
    "\n",
    "T=datasets.CIFAR10(rootdir,train=True,download=True, transform=transforms.ToTensor())\n",
    "V=datasets.CIFAR10(rootdir,train=False,download=True,transform=transforms.ToTensor())"
   ]
  },
  {
   "cell_type": "code",
   "execution_count": 18,
   "id": "9a4ee0f2-afc8-4fe2-bd45-7c6c966990f8",
   "metadata": {},
   "outputs": [],
   "source": [
    "tL = torch.utils.data.DataLoader(T,batch_size = 64, shuffle=True,drop_last=True)\n",
    "vL = torch.utils.data.DataLoader(V,batch_size = 64, shuffle=True,drop_last=True)"
   ]
  },
  {
   "cell_type": "code",
   "execution_count": 30,
   "id": "dcea52f4-ed36-4393-bf46-73a49af612ba",
   "metadata": {},
   "outputs": [],
   "source": [
    "model= nn.Sequential(\n",
    "    nn.Linear(3072,100),\n",
    "    nn.ReLU(),\n",
    "    nn.Dropout(0.5),\n",
    "    nn.Linear(100,10),\n",
    "    nn.LogSoftmax(dim=1)\n",
    ")\n"
   ]
  },
  {
   "cell_type": "code",
   "execution_count": 31,
   "id": "0a92f600-b9e6-4d48-8146-1bd3aed1b731",
   "metadata": {},
   "outputs": [],
   "source": [
    "loss_fn= nn.NLLLoss()"
   ]
  },
  {
   "cell_type": "code",
   "execution_count": 32,
   "id": "6da6b6c9-4805-4019-8b50-d3d71f79dfe5",
   "metadata": {},
   "outputs": [],
   "source": [
    "optimizer = torch.optim.Adam(model.parameters(),lr = 0.01)\n",
    "scheduler = torch.optim.lr_scheduler.CosineAnnealingLR(optimizer,len(tL))"
   ]
  },
  {
   "cell_type": "code",
   "execution_count": 33,
   "id": "e6ffc571-4b89-4d26-a45d-bc77e53e3ea8",
   "metadata": {},
   "outputs": [
    {
     "name": "stdout",
     "output_type": "stream",
     "text": [
      "1828.69384765625\n",
      "1799.1168212890625\n"
     ]
    }
   ],
   "source": [
    "nepochs = 2\n",
    "for e in range(nepochs):\n",
    "    eLoss= 0 \n",
    "    for X,y in tL:\n",
    "        batch_size = X.shape[0]\n",
    "        y_hat = model(X.view(batch_size,-1))\n",
    "        loss = loss_fn(y_hat,y)\n",
    "        eLoss+= loss\n",
    "        optimizer.zero_grad()\n",
    "        loss.backward()\n",
    "        optimizer.step()\n",
    "    scheduler.step()\n",
    "    print(float(eLoss))"
   ]
  },
  {
   "cell_type": "code",
   "execution_count": 36,
   "id": "5d204612-c75d-41cd-bc3d-191ff6193d45",
   "metadata": {},
   "outputs": [
    {
     "name": "stdout",
     "output_type": "stream",
     "text": [
      "0.0999599358974359\n"
     ]
    }
   ],
   "source": [
    "c = 0\n",
    "t = 0\n",
    "with torch.no_grad():\n",
    "    for Xv,yv in vL:\n",
    "        batch_size = Xv.shape[0]\n",
    "        y_hat = model(Xv.view(batch_size, -1))\n",
    "        _,p = torch.max(y_hat,dim=1)\n",
    "        t+=yv.shape[0]\n",
    "        c+=int((p==yv).sum())\n",
    "print(c/t) #accuracy"
   ]
  },
  {
   "cell_type": "code",
   "execution_count": null,
   "id": "706e42cc-c982-42c0-abae-bb03839de886",
   "metadata": {},
   "outputs": [],
   "source": []
  }
 ],
 "metadata": {
  "kernelspec": {
   "display_name": "Python 3 (ipykernel)",
   "language": "python",
   "name": "python3"
  },
  "language_info": {
   "codemirror_mode": {
    "name": "ipython",
    "version": 3
   },
   "file_extension": ".py",
   "mimetype": "text/x-python",
   "name": "python",
   "nbconvert_exporter": "python",
   "pygments_lexer": "ipython3",
   "version": "3.12.11"
  }
 },
 "nbformat": 4,
 "nbformat_minor": 5
}
