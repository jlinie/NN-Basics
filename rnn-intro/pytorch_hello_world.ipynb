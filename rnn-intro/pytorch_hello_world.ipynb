{
 "cells": [
  {
   "cell_type": "code",
   "execution_count": 1,
   "id": "be4b8374-f32f-4338-8d82-e8022023f458",
   "metadata": {},
   "outputs": [],
   "source": [
    "import torch "
   ]
  },
  {
   "cell_type": "code",
   "execution_count": 2,
   "id": "2bb98d7f-c3b5-4813-bd50-eba76a48617c",
   "metadata": {},
   "outputs": [],
   "source": [
    "x = torch.zeros(3,3)"
   ]
  },
  {
   "cell_type": "code",
   "execution_count": 3,
   "id": "917d58e1-88af-4897-9acc-0d7f7a5e5f35",
   "metadata": {},
   "outputs": [
    {
     "data": {
      "text/plain": [
       "tensor([[0., 0., 0.],\n",
       "        [0., 0., 0.],\n",
       "        [0., 0., 0.]])"
      ]
     },
     "execution_count": 3,
     "metadata": {},
     "output_type": "execute_result"
    }
   ],
   "source": [
    "x"
   ]
  },
  {
   "cell_type": "code",
   "execution_count": 4,
   "id": "631a9e7a-f564-46e2-8889-4f15c4189df9",
   "metadata": {},
   "outputs": [],
   "source": [
    "x = torch.rand(4,3)"
   ]
  },
  {
   "cell_type": "code",
   "execution_count": 5,
   "id": "12e568d6-edf6-4d7a-9b84-4ae46b434a13",
   "metadata": {},
   "outputs": [
    {
     "name": "stdout",
     "output_type": "stream",
     "text": [
      "tensor([[0.8986, 0.7915, 0.9712],\n",
      "        [0.7333, 0.3531, 0.7527],\n",
      "        [0.5465, 0.8581, 0.1193],\n",
      "        [0.2502, 0.2099, 0.9013]])\n"
     ]
    }
   ],
   "source": [
    "print(x)"
   ]
  },
  {
   "cell_type": "code",
   "execution_count": 6,
   "id": "a80b3569-7d99-4d43-97a5-fa9ef6640598",
   "metadata": {},
   "outputs": [
    {
     "data": {
      "text/plain": [
       "torch.Size([4, 3])"
      ]
     },
     "execution_count": 6,
     "metadata": {},
     "output_type": "execute_result"
    }
   ],
   "source": [
    "x.size()"
   ]
  },
  {
   "cell_type": "code",
   "execution_count": 7,
   "id": "d2182621-9a95-4e8b-9643-600e9a749114",
   "metadata": {},
   "outputs": [],
   "source": [
    "z = x.numpy()"
   ]
  },
  {
   "cell_type": "code",
   "execution_count": 8,
   "id": "476b37d8-bc43-44e7-96ef-6d9d403eca3c",
   "metadata": {},
   "outputs": [
    {
     "data": {
      "text/plain": [
       "array([[0.8985674 , 0.79151416, 0.9712245 ],\n",
       "       [0.7332925 , 0.3530724 , 0.75268084],\n",
       "       [0.54653794, 0.85810655, 0.11932105],\n",
       "       [0.25024772, 0.20986623, 0.9013399 ]], dtype=float32)"
      ]
     },
     "execution_count": 8,
     "metadata": {},
     "output_type": "execute_result"
    }
   ],
   "source": [
    "z"
   ]
  },
  {
   "cell_type": "code",
   "execution_count": null,
   "id": "949a11b1-6dad-425f-b260-d9197b48c82a",
   "metadata": {},
   "outputs": [],
   "source": []
  }
 ],
 "metadata": {
  "kernelspec": {
   "display_name": "Python 3 (ipykernel)",
   "language": "python",
   "name": "python3"
  },
  "language_info": {
   "codemirror_mode": {
    "name": "ipython",
    "version": 3
   },
   "file_extension": ".py",
   "mimetype": "text/x-python",
   "name": "python",
   "nbconvert_exporter": "python",
   "pygments_lexer": "ipython3",
   "version": "3.12.0"
  }
 },
 "nbformat": 4,
 "nbformat_minor": 5
}
