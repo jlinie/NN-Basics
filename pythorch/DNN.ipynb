{
 "cells": [
  {
   "cell_type": "code",
   "execution_count": 1,
   "id": "36999ab0-1dea-4409-a770-92473f36fac7",
   "metadata": {},
   "outputs": [],
   "source": [
    "import numpy as np\n",
    "import torch\n",
    "import torch.nn as nn\n",
    "from torch.utils.data import TensorDataset, DataLoader"
   ]
  },
  {
   "cell_type": "code",
   "execution_count": 3,
   "id": "2eb7ace0-6a02-4de8-a76b-2d70748ce06b",
   "metadata": {},
   "outputs": [],
   "source": [
    "inputDim = 10\n",
    "n = 1000\n",
    "X = np.random.rand(n,inputDim)\n",
    "y = np.random.randint(0,2,n)\n",
    "\n",
    "tensor_x = torch.Tensor(X)\n",
    "tensor_y = torch.Tensor(y)\n",
    "Xy = TensorDataset(tensor_x,tensor_y)\n",
    "Xy_loader = DataLoader(Xy, batch_size = 16, shuffle=True,drop_last=True)"
   ]
  },
  {
   "cell_type": "code",
   "execution_count": 18,
   "id": "588a0315-2904-46cb-b8cd-a4724bec89da",
   "metadata": {},
   "outputs": [],
   "source": [
    "model = nn.Sequential( \n",
    "    nn.Linear(inputDim,200), \n",
    "    nn.ReLU(),\n",
    "    nn.BatchNorm1d(num_features=200),\n",
    "    nn.Dropout(0.5),#how many to be picked out randomly\n",
    "    nn.Linear(200,100), \n",
    "    nn.Tanh(), \n",
    "    nn.BatchNorm1d(num_features=100),\n",
    "    nn.Linear(100,1), \n",
    "    nn.Sigmoid() )\n",
    "optimizer = torch.optim.Adam(model.parameters(),lr = 0.001)"
   ]
  },
  {
   "cell_type": "code",
   "execution_count": 19,
   "id": "a448ffa6-236c-4621-92e8-717a522e5a86",
   "metadata": {},
   "outputs": [],
   "source": [
    "loss_fn = nn.BCELoss()"
   ]
  },
  {
   "cell_type": "code",
   "execution_count": 20,
   "id": "a56f196e-4f4f-40fe-8535-eafe49fe2252",
   "metadata": {},
   "outputs": [
    {
     "name": "stdout",
     "output_type": "stream",
     "text": [
      "0.6745136976242065\n",
      "0.7926345467567444\n",
      "0.6486737728118896\n",
      "0.6149837970733643\n",
      "0.5882061719894409\n",
      "0.6958678960800171\n",
      "0.635584831237793\n",
      "0.652210533618927\n",
      "0.6255170106887817\n",
      "0.674026370048523\n",
      "0.7108105421066284\n",
      "0.684471845626831\n",
      "0.7438925504684448\n",
      "0.667569637298584\n",
      "0.7257591485977173\n",
      "0.7037798762321472\n",
      "0.7969951629638672\n",
      "0.6798259019851685\n",
      "0.6899563074111938\n",
      "0.6551290154457092\n",
      "0.6998928785324097\n",
      "0.7345796823501587\n",
      "0.6873963475227356\n",
      "0.6131055951118469\n",
      "0.6569356918334961\n",
      "0.7182325720787048\n",
      "0.6044619679450989\n",
      "0.6456830501556396\n",
      "0.7500256896018982\n",
      "0.7657672166824341\n",
      "0.6722502708435059\n",
      "0.7201840877532959\n",
      "0.704409658908844\n",
      "0.5270906686782837\n",
      "0.605202317237854\n",
      "0.5835151076316833\n",
      "0.5316833853721619\n",
      "0.7291313409805298\n",
      "0.6253561973571777\n",
      "0.7606585025787354\n",
      "0.596190869808197\n",
      "0.6881814002990723\n",
      "0.5914360880851746\n",
      "0.714857816696167\n",
      "0.7253148555755615\n",
      "0.5843711495399475\n",
      "0.5121568441390991\n",
      "0.6367852687835693\n",
      "0.6034860610961914\n",
      "0.5855638980865479\n",
      "0.7647707462310791\n",
      "0.6328008770942688\n",
      "0.535383939743042\n",
      "0.661507248878479\n",
      "0.5390373468399048\n",
      "0.5909181237220764\n",
      "0.6141597032546997\n",
      "0.5760687589645386\n",
      "0.5955995917320251\n",
      "0.7104926705360413\n",
      "0.5172181725502014\n",
      "0.5863490104675293\n",
      "0.6739141941070557\n",
      "0.556587815284729\n",
      "0.4949817359447479\n",
      "0.5683282613754272\n",
      "0.5663811564445496\n",
      "0.41237547993659973\n",
      "0.5423755645751953\n",
      "0.5237706899642944\n",
      "0.5157306790351868\n",
      "0.437396377325058\n",
      "0.630578875541687\n",
      "0.5706470012664795\n",
      "0.5377715826034546\n",
      "0.7388427257537842\n",
      "0.5744287371635437\n",
      "0.6303117871284485\n",
      "0.6579425930976868\n",
      "0.3569953739643097\n",
      "0.6254692077636719\n",
      "0.5953611731529236\n",
      "0.6029583215713501\n",
      "0.5709813237190247\n",
      "0.6759443283081055\n",
      "0.6340012550354004\n",
      "0.6156668066978455\n",
      "0.5172028541564941\n",
      "0.6299031972885132\n",
      "0.6116340756416321\n",
      "0.5918611288070679\n",
      "0.6387910842895508\n",
      "0.6387672424316406\n",
      "0.5173734426498413\n",
      "0.8331368565559387\n",
      "0.3966852128505707\n",
      "0.4659593105316162\n",
      "0.6918468475341797\n",
      "0.35153359174728394\n",
      "0.5449026823043823\n"
     ]
    }
   ],
   "source": [
    "nepochs = 100\n",
    "for epoch in range(nepochs):\n",
    "    for X,y in Xy_loader:\n",
    "        batch_size = X.shape[0]\n",
    "        y_hat= model(X.view(batch_size,-1))\n",
    "        loss = loss_fn(y_hat, y.unsqueeze(1))\n",
    "        optimizer.zero_grad()\n",
    "        loss.backward()\n",
    "        optimizer.step()\n",
    "    print(float(loss))"
   ]
  },
  {
   "cell_type": "code",
   "execution_count": 15,
   "id": "d01f9b83-ba1a-413d-8223-203816428544",
   "metadata": {},
   "outputs": [
    {
     "name": "stdout",
     "output_type": "stream",
     "text": [
      "0.9999995\n"
     ]
    }
   ],
   "source": [
    "with torch.no_grad():\n",
    "    xt = torch.tensor(np.random.rand(1,inputDim))\n",
    "    y2 = model(xt.float())\n",
    "    print(y2.detach().numpy()[0][0])"
   ]
  },
  {
   "cell_type": "code",
   "execution_count": null,
   "id": "b3b87249-8c43-4489-bfd8-20d8518df09f",
   "metadata": {},
   "outputs": [],
   "source": []
  }
 ],
 "metadata": {
  "kernelspec": {
   "display_name": "Python 3 (ipykernel)",
   "language": "python",
   "name": "python3"
  },
  "language_info": {
   "codemirror_mode": {
    "name": "ipython",
    "version": 3
   },
   "file_extension": ".py",
   "mimetype": "text/x-python",
   "name": "python",
   "nbconvert_exporter": "python",
   "pygments_lexer": "ipython3",
   "version": "3.12.11"
  }
 },
 "nbformat": 4,
 "nbformat_minor": 5
}
