{
 "cells": [
  {
   "cell_type": "code",
   "execution_count": 4,
   "id": "c8a8e270-19cf-4a64-88c5-8d74d6fb0475",
   "metadata": {},
   "outputs": [],
   "source": [
    "import numpy as np\n",
    "import pandas as pd\n",
    "import torch\n",
    "import sys\n",
    "import string\n",
    "from collections import Counter"
   ]
  },
  {
   "cell_type": "code",
   "execution_count": 5,
   "id": "addb21ad-ac7a-4de6-976e-be0dbd9276e8",
   "metadata": {},
   "outputs": [],
   "source": [
    "vocab = {}"
   ]
  },
  {
   "cell_type": "code",
   "execution_count": 6,
   "id": "b90107ae-9d0d-4e3b-91f5-79c8b6b480c3",
   "metadata": {},
   "outputs": [],
   "source": [
    "def initializeVocabulary():\n",
    "    unkToken = '<UNK>'\n",
    "    vocab['t_2_i'] = {}\n",
    "    vocab['i_2_t'] = {}\n",
    "    idx = addToken(unkToken)\n",
    "    vocab['addUnk'] = True\n",
    "    vocab['unkToken'] = unkToken\n",
    "    vocab['unkTokenIdx'] = idx "
   ]
  },
  {
   "cell_type": "code",
   "execution_count": 8,
   "id": "1e0342b6-e372-495f-8f09-879ed58e92e3",
   "metadata": {},
   "outputs": [],
   "source": [
    "def addToken(token):\n",
    "    if token in vocab['t_2_i']:\n",
    "        idx = vocab['t_2_i'][token]\n",
    "    else: \n",
    "        idx = len(vocab['t_2_i'])\n",
    "        vocab['t_2_i'][token] = idx\n",
    "        vocab['i_2_t'][idx] = token\n",
    "    return idx"
   ]
  },
  {
   "cell_type": "code",
   "execution_count": 9,
   "id": "b8264db8-7562-4903-b490-dfc0bd18885f",
   "metadata": {},
   "outputs": [],
   "source": [
    "def addManyTokens(tokens):\n",
    "    idxes = [addToken(token) for token in tokens]\n",
    "    return idxes"
   ]
  },
  {
   "cell_type": "code",
   "execution_count": 11,
   "id": "50c252dc-da9e-4e67-90c2-f241050c4152",
   "metadata": {},
   "outputs": [],
   "source": [
    "def lookUpToken(token):\n",
    "    if vocab['unkTokenIdx'] >= 0:\n",
    "        return vocab['t_2_i'].get(token,vocab['unkTokenIdx'])\n",
    "    else:\n",
    "        return vocab['t_2_i'][token]"
   ]
  },
  {
   "cell_type": "code",
   "execution_count": 12,
   "id": "bcae75d5-d3c1-4534-9092-a1c0903703c4",
   "metadata": {},
   "outputs": [],
   "source": [
    "def lookUpIndex(idx):\n",
    "    if idx not in vocab['i_2_t']:\n",
    "        raise KeyError(\"the index (%d) is not there\" % idx)\n",
    "    return vocab['i_2_t'][idx]"
   ]
  },
  {
   "cell_type": "code",
   "execution_count": 14,
   "id": "4b30298f-ff97-4add-9a8f-a46bf339bc8c",
   "metadata": {},
   "outputs": [],
   "source": [
    "def vocabularyFromDataFrame(df, cutoff = 25):\n",
    "    initializeVocabulary()\n",
    "    wordCounts = Counter()\n",
    "    for r in df.review: \n",
    "        for word in r.split(\" \"):\n",
    "            if word not in string.punctuation:\n",
    "                wordCounts[word] += 1\n",
    "    for word,count in wordCounts.items():\n",
    "        if count > cutoff:\n",
    "            addToken(word)"
   ]
  },
  {
   "cell_type": "code",
   "execution_count": 15,
   "id": "9402611f-0e67-47f8-8e8d-526745f35047",
   "metadata": {},
   "outputs": [],
   "source": [
    "df = pd.read_csv(r'/Users/ceylinekinci/NN-Basics/data/reviews.csv')"
   ]
  },
  {
   "cell_type": "code",
   "execution_count": 16,
   "id": "0af01d10-d8cc-49e4-bf53-411347e0d999",
   "metadata": {},
   "outputs": [],
   "source": [
    "vocabularyFromDataFrame(df, cutoff = 25)"
   ]
  },
  {
   "cell_type": "code",
   "execution_count": 17,
   "id": "54d72faa-e67c-499c-99d7-62144c7cda9f",
   "metadata": {},
   "outputs": [
    {
     "data": {
      "text/plain": [
       "128"
      ]
     },
     "execution_count": 17,
     "metadata": {},
     "output_type": "execute_result"
    }
   ],
   "source": [
    "lookUpToken('this')"
   ]
  },
  {
   "cell_type": "code",
   "execution_count": 19,
   "id": "bb18a1e4-4b05-4bc9-98b9-869612f6f478",
   "metadata": {},
   "outputs": [
    {
     "data": {
      "text/plain": [
       "'this'"
      ]
     },
     "execution_count": 19,
     "metadata": {},
     "output_type": "execute_result"
    }
   ],
   "source": [
    "lookUpIndex(128)"
   ]
  },
  {
   "cell_type": "code",
   "execution_count": 21,
   "id": "8c96ec2d-f7c6-4556-ad74-28c2c8fb5b65",
   "metadata": {},
   "outputs": [
    {
     "data": {
      "text/plain": [
       "8945"
      ]
     },
     "execution_count": 21,
     "metadata": {},
     "output_type": "execute_result"
    }
   ],
   "source": [
    "len(vocab['t_2_i'])"
   ]
  },
  {
   "cell_type": "code",
   "execution_count": 25,
   "id": "31408d97-8c5f-43e4-b7d3-e6937846c33c",
   "metadata": {},
   "outputs": [],
   "source": [
    "#vectorizer:\n",
    "def vectorize(review):\n",
    "    isFirst = True\n",
    "    for token in review.split(\" \"):\n",
    "        if token not in string.punctuation:\n",
    "            oneHot = np.zeros((len(vocab['t_2_i']),1))\n",
    "            oneHot[lookUpToken(token)] = 1\n",
    "            if isFirst:\n",
    "                xF=oneHot\n",
    "                isFirst = False\n",
    "            else:\n",
    "                xF=np.hstack((xF, oneHot))\n",
    "    return xF"
   ]
  },
  {
   "cell_type": "code",
   "execution_count": 26,
   "id": "57702e15-549a-4d19-b1b1-8dc60f668e59",
   "metadata": {},
   "outputs": [],
   "source": [
    "xF = vectorize(df['review'][1])"
   ]
  },
  {
   "cell_type": "code",
   "execution_count": 27,
   "id": "d7967681-6f98-4a44-9421-611d0d597b8c",
   "metadata": {},
   "outputs": [
    {
     "data": {
      "text/plain": [
       "(8945, 17)"
      ]
     },
     "execution_count": 27,
     "metadata": {},
     "output_type": "execute_result"
    }
   ],
   "source": [
    "xF.shape"
   ]
  },
  {
   "cell_type": "code",
   "execution_count": 28,
   "id": "83cd561e-9f4b-4b14-811a-8f117079c7dc",
   "metadata": {},
   "outputs": [
    {
     "data": {
      "text/html": [
       "<div>\n",
       "<style scoped>\n",
       "    .dataframe tbody tr th:only-of-type {\n",
       "        vertical-align: middle;\n",
       "    }\n",
       "\n",
       "    .dataframe tbody tr th {\n",
       "        vertical-align: top;\n",
       "    }\n",
       "\n",
       "    .dataframe thead th {\n",
       "        text-align: right;\n",
       "    }\n",
       "</style>\n",
       "<table border=\"1\" class=\"dataframe\">\n",
       "  <thead>\n",
       "    <tr style=\"text-align: right;\">\n",
       "      <th></th>\n",
       "      <th>rating</th>\n",
       "      <th>review</th>\n",
       "    </tr>\n",
       "  </thead>\n",
       "  <tbody>\n",
       "    <tr>\n",
       "      <th>0</th>\n",
       "      <td>negative</td>\n",
       "      <td>terrible place to work for i just heard a stor...</td>\n",
       "    </tr>\n",
       "    <tr>\n",
       "      <th>1</th>\n",
       "      <td>negative</td>\n",
       "      <td>hours , minutes total time for an extremely s...</td>\n",
       "    </tr>\n",
       "    <tr>\n",
       "      <th>2</th>\n",
       "      <td>negative</td>\n",
       "      <td>my less than stellar review is for service . w...</td>\n",
       "    </tr>\n",
       "    <tr>\n",
       "      <th>3</th>\n",
       "      <td>negative</td>\n",
       "      <td>i m granting one star because there s no way t...</td>\n",
       "    </tr>\n",
       "    <tr>\n",
       "      <th>4</th>\n",
       "      <td>negative</td>\n",
       "      <td>the food here is mediocre at best . i went aft...</td>\n",
       "    </tr>\n",
       "    <tr>\n",
       "      <th>...</th>\n",
       "      <td>...</td>\n",
       "      <td>...</td>\n",
       "    </tr>\n",
       "    <tr>\n",
       "      <th>55995</th>\n",
       "      <td>positive</td>\n",
       "      <td>great food . wonderful , friendly service . i ...</td>\n",
       "    </tr>\n",
       "    <tr>\n",
       "      <th>55996</th>\n",
       "      <td>positive</td>\n",
       "      <td>charlotte should be the new standard for moder...</td>\n",
       "    </tr>\n",
       "    <tr>\n",
       "      <th>55997</th>\n",
       "      <td>positive</td>\n",
       "      <td>get the encore sandwich ! ! make sure to get i...</td>\n",
       "    </tr>\n",
       "    <tr>\n",
       "      <th>55998</th>\n",
       "      <td>positive</td>\n",
       "      <td>i m a pretty big ice cream gelato fan . pretty...</td>\n",
       "    </tr>\n",
       "    <tr>\n",
       "      <th>55999</th>\n",
       "      <td>positive</td>\n",
       "      <td>where else can you find all the parts and piec...</td>\n",
       "    </tr>\n",
       "  </tbody>\n",
       "</table>\n",
       "<p>56000 rows × 2 columns</p>\n",
       "</div>"
      ],
      "text/plain": [
       "         rating                                             review\n",
       "0      negative  terrible place to work for i just heard a stor...\n",
       "1      negative   hours , minutes total time for an extremely s...\n",
       "2      negative  my less than stellar review is for service . w...\n",
       "3      negative  i m granting one star because there s no way t...\n",
       "4      negative  the food here is mediocre at best . i went aft...\n",
       "...         ...                                                ...\n",
       "55995  positive  great food . wonderful , friendly service . i ...\n",
       "55996  positive  charlotte should be the new standard for moder...\n",
       "55997  positive  get the encore sandwich ! ! make sure to get i...\n",
       "55998  positive  i m a pretty big ice cream gelato fan . pretty...\n",
       "55999  positive  where else can you find all the parts and piec...\n",
       "\n",
       "[56000 rows x 2 columns]"
      ]
     },
     "execution_count": 28,
     "metadata": {},
     "output_type": "execute_result"
    }
   ],
   "source": [
    "df"
   ]
  },
  {
   "cell_type": "code",
   "execution_count": 29,
   "id": "c2dbf435-2097-4da2-baba-b2578faabbf8",
   "metadata": {},
   "outputs": [],
   "source": [
    "smallDF_pos = df[df['rating']=='positive'].iloc[:5]\n",
    "smallDF_neg = df[df['rating']=='negative'].iloc[:5]\n",
    "df_small = pd.concat([smallDF_pos, smallDF_neg],axis = 0)"
   ]
  },
  {
   "cell_type": "code",
   "execution_count": 30,
   "id": "d2b2ccee-53ec-46b3-a5f6-7df5550cff60",
   "metadata": {},
   "outputs": [
    {
     "data": {
      "text/html": [
       "<div>\n",
       "<style scoped>\n",
       "    .dataframe tbody tr th:only-of-type {\n",
       "        vertical-align: middle;\n",
       "    }\n",
       "\n",
       "    .dataframe tbody tr th {\n",
       "        vertical-align: top;\n",
       "    }\n",
       "\n",
       "    .dataframe thead th {\n",
       "        text-align: right;\n",
       "    }\n",
       "</style>\n",
       "<table border=\"1\" class=\"dataframe\">\n",
       "  <thead>\n",
       "    <tr style=\"text-align: right;\">\n",
       "      <th></th>\n",
       "      <th>rating</th>\n",
       "      <th>review</th>\n",
       "    </tr>\n",
       "  </thead>\n",
       "  <tbody>\n",
       "    <tr>\n",
       "      <th>28000</th>\n",
       "      <td>positive</td>\n",
       "      <td>my experience was by far the most pleasant i h...</td>\n",
       "    </tr>\n",
       "    <tr>\n",
       "      <th>28001</th>\n",
       "      <td>positive</td>\n",
       "      <td>i have been to this place a couple of times on...</td>\n",
       "    </tr>\n",
       "    <tr>\n",
       "      <th>28002</th>\n",
       "      <td>positive</td>\n",
       "      <td>very popular sushi bar in the heart of old tow...</td>\n",
       "    </tr>\n",
       "    <tr>\n",
       "      <th>28003</th>\n",
       "      <td>positive</td>\n",
       "      <td>the staff is nice . it s pretty clean . they u...</td>\n",
       "    </tr>\n",
       "    <tr>\n",
       "      <th>28004</th>\n",
       "      <td>positive</td>\n",
       "      <td>my co worker picked up lunch for us from this ...</td>\n",
       "    </tr>\n",
       "    <tr>\n",
       "      <th>0</th>\n",
       "      <td>negative</td>\n",
       "      <td>terrible place to work for i just heard a stor...</td>\n",
       "    </tr>\n",
       "    <tr>\n",
       "      <th>1</th>\n",
       "      <td>negative</td>\n",
       "      <td>hours , minutes total time for an extremely s...</td>\n",
       "    </tr>\n",
       "    <tr>\n",
       "      <th>2</th>\n",
       "      <td>negative</td>\n",
       "      <td>my less than stellar review is for service . w...</td>\n",
       "    </tr>\n",
       "    <tr>\n",
       "      <th>3</th>\n",
       "      <td>negative</td>\n",
       "      <td>i m granting one star because there s no way t...</td>\n",
       "    </tr>\n",
       "    <tr>\n",
       "      <th>4</th>\n",
       "      <td>negative</td>\n",
       "      <td>the food here is mediocre at best . i went aft...</td>\n",
       "    </tr>\n",
       "  </tbody>\n",
       "</table>\n",
       "</div>"
      ],
      "text/plain": [
       "         rating                                             review\n",
       "28000  positive  my experience was by far the most pleasant i h...\n",
       "28001  positive  i have been to this place a couple of times on...\n",
       "28002  positive  very popular sushi bar in the heart of old tow...\n",
       "28003  positive  the staff is nice . it s pretty clean . they u...\n",
       "28004  positive  my co worker picked up lunch for us from this ...\n",
       "0      negative  terrible place to work for i just heard a stor...\n",
       "1      negative   hours , minutes total time for an extremely s...\n",
       "2      negative  my less than stellar review is for service . w...\n",
       "3      negative  i m granting one star because there s no way t...\n",
       "4      negative  the food here is mediocre at best . i went aft..."
      ]
     },
     "execution_count": 30,
     "metadata": {},
     "output_type": "execute_result"
    }
   ],
   "source": [
    "df_small"
   ]
  },
  {
   "cell_type": "code",
   "execution_count": 32,
   "id": "e3254085-b8f7-4368-988a-63dd25af8940",
   "metadata": {},
   "outputs": [],
   "source": [
    "vocabularyFromDataFrame(df_small, cutoff = 0)"
   ]
  },
  {
   "cell_type": "code",
   "execution_count": 33,
   "id": "27334cdf-912c-415a-a2e4-469dca7798fc",
   "metadata": {},
   "outputs": [
    {
     "data": {
      "text/plain": [
       "491"
      ]
     },
     "execution_count": 33,
     "metadata": {},
     "output_type": "execute_result"
    }
   ],
   "source": [
    "len(vocab['t_2_i'])"
   ]
  },
  {
   "cell_type": "code",
   "execution_count": 35,
   "id": "be8aade7-ae2b-4941-91c2-a70dfabb80e7",
   "metadata": {},
   "outputs": [],
   "source": [
    "numFeatures = len(vocab['t_2_i'])\n",
    "hiddenUnits = 10\n",
    "h0 = torch.tensor(np.zeros((hiddenUnits,1)))\n",
    "Wx = torch.tensor(np.random.uniform(0,1,(hiddenUnits, numFeatures)),requires_grad =True)\n",
    "Wh = torch.tensor(np.random.uniform(0,1,(hiddenUnits, hiddenUnits)),requires_grad =True)\n",
    "Wy = torch.tensor(np.random.uniform(0,1,(1, hiddenUnits)),requires_grad =True)\n"
   ]
  },
  {
   "cell_type": "code",
   "execution_count": 66,
   "id": "b5ac50a4-fb5b-4820-a897-5ca9bfcb35b5",
   "metadata": {},
   "outputs": [],
   "source": [
    "def stepForward(xt, Wx, Wh, Wy, prevMemory):\n",
    "    x_frd = torch.matmul(Wx, torch.from_numpy(xt[:,np.newaxis]))\n",
    "    h_frd = torch.matmul(Wh, prevMemory)\n",
    "    ht = torch.tanh(x_frd+h_frd)\n",
    "    yt_hat = torch.sigmoid(torch.matmul(Wy, ht))\n",
    "    return ht,yt_hat"
   ]
  },
  {
   "cell_type": "code",
   "execution_count": 67,
   "id": "8a33d719-874a-42cb-b3fb-60891c0b9a93",
   "metadata": {},
   "outputs": [],
   "source": [
    "def fullForwardRNN(X, Wx, Wh, Wy, prevMemory):\n",
    "    y_hat = 0\n",
    "    ht = prevMemory\n",
    "    for t in range(X.shape[1]):\n",
    "        ht, yt_hat = stepForward(X[:,t],Wx,Wh, Wy, prevMemory)\n",
    "        prevMemory = ht\n",
    "        y_hat = yt_hat\n",
    "    return y_hat"
   ]
  },
  {
   "cell_type": "code",
   "execution_count": 68,
   "id": "293b3a9c-3db3-4e26-9c37-85df8f1a7437",
   "metadata": {},
   "outputs": [],
   "source": [
    "def computeLoss(y,y_hat):\n",
    "    loss = 0\n",
    "    for yi, yi_hat in zip(y, y_hat):\n",
    "        if yi==1:\n",
    "            loss+= -torch.log2(yi_hat)\n",
    "        else:\n",
    "            loss+= -torch.log2(1- yi_hat)\n",
    "    return loss/len(y)"
   ]
  },
  {
   "cell_type": "code",
   "execution_count": 69,
   "id": "02fbc69f-a28e-4e67-b557-bf1b30a9a9eb",
   "metadata": {},
   "outputs": [],
   "source": [
    "def updateParams(Wx,Wh,Wy,dWx, dWh,dWy, lr):\n",
    "    with torch.no_grad():\n",
    "        Wx -= lr*dWx \n",
    "        Wh -= lr*dWh\n",
    "        Wy -= lr*dWy\n",
    "    return Wx, Wh, Wy"
   ]
  },
  {
   "cell_type": "code",
   "execution_count": 70,
   "id": "82a21d3f-300c-4d9e-a821-9d6a252953e4",
   "metadata": {},
   "outputs": [],
   "source": [
    "def trainRnn(train_df, Wx, Wh, Wy, prevMemory, lr, nepoch):\n",
    "    losses = []\n",
    "    for epoch in range(nepoch):\n",
    "        y,y_hat = [],[]\n",
    "        for rv, rt in zip(train_df['review'], train_df['rating']):\n",
    "            X=vectorize(rv)\n",
    "            yi_hat = fullForwardRNN(X, Wx,Wh,Wy,prevMemory)\n",
    "            yi=0\n",
    "            if rt == 'positive' : \n",
    "                yi = 1\n",
    "            y.append(yi)\n",
    "            y_hat.append(yi_hat)\n",
    "\n",
    "        loss = computeLoss(y, y_hat)\n",
    "        loss.backward()\n",
    "        losses.append(loss)\n",
    "        print(\"Loss after epoch = %d: %f\" %(epoch,loss))\n",
    "        sys.stdout.flush()\n",
    "        dWx = Wx.grad.data\n",
    "        dWh = Wh.grad.data\n",
    "        dWy = Wy.grad.data\n",
    "        Wx,Wh,Wy = updateParams(Wx,Wh,Wy,dWx, dWh,dWy, lr)\n",
    "        Wx.grad.data.zero_()\n",
    "        Wh.grad.data.zero_()\n",
    "        Wy.grad.data.zero_()\n",
    "    return Wx, Wh, Wy, losses"
   ]
  },
  {
   "cell_type": "code",
   "execution_count": 73,
   "id": "ad128c31-887b-4e48-9b63-b3690f063628",
   "metadata": {},
   "outputs": [
    {
     "name": "stdout",
     "output_type": "stream",
     "text": [
      "Loss after epoch = 0: 2.699967\n",
      "Loss after epoch = 1: 2.652953\n",
      "Loss after epoch = 2: 2.606275\n",
      "Loss after epoch = 3: 2.559954\n",
      "Loss after epoch = 4: 2.514011\n",
      "Loss after epoch = 5: 2.468466\n",
      "Loss after epoch = 6: 2.423344\n",
      "Loss after epoch = 7: 2.378665\n",
      "Loss after epoch = 8: 2.334455\n",
      "Loss after epoch = 9: 2.290737\n",
      "Loss after epoch = 10: 2.247537\n",
      "Loss after epoch = 11: 2.204879\n",
      "Loss after epoch = 12: 2.162790\n",
      "Loss after epoch = 13: 2.121297\n",
      "Loss after epoch = 14: 2.080424\n",
      "Loss after epoch = 15: 2.040198\n",
      "Loss after epoch = 16: 2.000647\n",
      "Loss after epoch = 17: 1.961795\n",
      "Loss after epoch = 18: 1.923669\n",
      "Loss after epoch = 19: 1.886293\n",
      "Loss after epoch = 20: 1.849692\n",
      "Loss after epoch = 21: 1.813889\n",
      "Loss after epoch = 22: 1.778907\n",
      "Loss after epoch = 23: 1.744767\n",
      "Loss after epoch = 24: 1.711487\n",
      "Loss after epoch = 25: 1.679087\n",
      "Loss after epoch = 26: 1.647582\n",
      "Loss after epoch = 27: 1.616986\n",
      "Loss after epoch = 28: 1.587311\n",
      "Loss after epoch = 29: 1.558567\n",
      "Loss after epoch = 30: 1.530762\n",
      "Loss after epoch = 31: 1.503900\n",
      "Loss after epoch = 32: 1.477984\n",
      "Loss after epoch = 33: 1.453014\n",
      "Loss after epoch = 34: 1.428988\n",
      "Loss after epoch = 35: 1.405901\n",
      "Loss after epoch = 36: 1.383744\n",
      "Loss after epoch = 37: 1.362510\n",
      "Loss after epoch = 38: 1.342185\n",
      "Loss after epoch = 39: 1.322756\n",
      "Loss after epoch = 40: 1.304207\n",
      "Loss after epoch = 41: 1.286519\n",
      "Loss after epoch = 42: 1.269672\n",
      "Loss after epoch = 43: 1.253647\n",
      "Loss after epoch = 44: 1.238420\n",
      "Loss after epoch = 45: 1.223968\n",
      "Loss after epoch = 46: 1.210266\n",
      "Loss after epoch = 47: 1.197289\n",
      "Loss after epoch = 48: 1.185011\n",
      "Loss after epoch = 49: 1.173406\n"
     ]
    }
   ],
   "source": [
    "Wx, Wh, Wy, losses = trainRnn(df_small, Wx, Wh, Wy, h0, 0.01, 50)"
   ]
  },
  {
   "cell_type": "code",
   "execution_count": 93,
   "id": "32820a05-261f-42c8-8e70-7192e14b421b",
   "metadata": {},
   "outputs": [],
   "source": [
    "r = df_small['review'].iloc[6]\n",
    "y = df_small['rating'].iloc[6]"
   ]
  },
  {
   "cell_type": "code",
   "execution_count": 94,
   "id": "c41a922d-95d8-4509-8b08-4fee96ba56c7",
   "metadata": {},
   "outputs": [],
   "source": [
    "X= vectorize(r)"
   ]
  },
  {
   "cell_type": "code",
   "execution_count": 95,
   "id": "70c93bd1-9f7e-481a-91f6-1b1adf0d5a99",
   "metadata": {},
   "outputs": [],
   "source": [
    "y_hat = fullForwardRNN(X,Wx,Wh,Wy,h0)"
   ]
  },
  {
   "cell_type": "code",
   "execution_count": 96,
   "id": "2b34e555-1abb-45e5-84ab-65289de765b5",
   "metadata": {},
   "outputs": [
    {
     "data": {
      "text/plain": [
       "tensor([[0.7245]], dtype=torch.float64, grad_fn=<SigmoidBackward0>)"
      ]
     },
     "execution_count": 96,
     "metadata": {},
     "output_type": "execute_result"
    }
   ],
   "source": [
    "y_hat"
   ]
  },
  {
   "cell_type": "code",
   "execution_count": 97,
   "id": "30a855a0-137b-49e4-9bb4-317d36b24160",
   "metadata": {},
   "outputs": [
    {
     "data": {
      "text/plain": [
       "'negative'"
      ]
     },
     "execution_count": 97,
     "metadata": {},
     "output_type": "execute_result"
    }
   ],
   "source": [
    "y"
   ]
  },
  {
   "cell_type": "code",
   "execution_count": null,
   "id": "ae9de98e-5e34-4e78-9940-3a488e7d9d59",
   "metadata": {},
   "outputs": [],
   "source": []
  }
 ],
 "metadata": {
  "kernelspec": {
   "display_name": "Python 3 (ipykernel)",
   "language": "python",
   "name": "python3"
  },
  "language_info": {
   "codemirror_mode": {
    "name": "ipython",
    "version": 3
   },
   "file_extension": ".py",
   "mimetype": "text/x-python",
   "name": "python",
   "nbconvert_exporter": "python",
   "pygments_lexer": "ipython3",
   "version": "3.12.11"
  }
 },
 "nbformat": 4,
 "nbformat_minor": 5
}
