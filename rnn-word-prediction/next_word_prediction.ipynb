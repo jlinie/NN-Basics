{
 "cells": [
  {
   "cell_type": "code",
   "execution_count": 48,
   "id": "8259b241-22a8-41b0-bd7d-21d57cb7793e",
   "metadata": {},
   "outputs": [],
   "source": [
    "import numpy as np\n",
    "import torch \n",
    "import sys\n",
    "import torch.nn.functional as F"
   ]
  },
  {
   "cell_type": "code",
   "execution_count": 2,
   "id": "79fcd17c-9fbb-43ef-a779-7715679c682e",
   "metadata": {},
   "outputs": [],
   "source": [
    "inputString = [2, 45,30, 55,10]\n",
    "outputString = [45, 30, 55, 10, 1]"
   ]
  },
  {
   "cell_type": "code",
   "execution_count": 3,
   "id": "cb6fbca2-54f4-492c-9b07-194563c85fcf",
   "metadata": {},
   "outputs": [],
   "source": [
    "numFeatures = 100\n",
    "vocabSize = 80"
   ]
  },
  {
   "cell_type": "code",
   "execution_count": 5,
   "id": "f5350405-2754-460d-8ce3-c2764d8f00f6",
   "metadata": {},
   "outputs": [],
   "source": [
    "#define embeddings \n",
    "embeddings = []\n",
    "for i in range(len(inputString)):\n",
    "    x = np.random.randn(numFeatures,1)\n",
    "    embeddings.append(x)\n",
    "    "
   ]
  },
  {
   "cell_type": "code",
   "execution_count": 6,
   "id": "ecc721a4-c7e9-4ac9-a659-578aa5326be3",
   "metadata": {},
   "outputs": [
    {
     "data": {
      "text/plain": [
       "(100, 1)"
      ]
     },
     "execution_count": 6,
     "metadata": {},
     "output_type": "execute_result"
    }
   ],
   "source": [
    "embeddings[0].shape"
   ]
  },
  {
   "cell_type": "code",
   "execution_count": 7,
   "id": "c49613b5-8631-473e-959f-a87d37e3e482",
   "metadata": {},
   "outputs": [
    {
     "data": {
      "text/plain": [
       "5"
      ]
     },
     "execution_count": 7,
     "metadata": {},
     "output_type": "execute_result"
    }
   ],
   "source": [
    "len(embeddings)"
   ]
  },
  {
   "cell_type": "code",
   "execution_count": 8,
   "id": "2fe6221d-ec04-4cc0-8f22-9c3f42f43033",
   "metadata": {},
   "outputs": [],
   "source": [
    "def getOneHot(idx):\n",
    "    one_hot = np.zeros((vocabSize,1))\n",
    "    one_hot[idx]= 1\n",
    "    return one_hot"
   ]
  },
  {
   "cell_type": "code",
   "execution_count": 10,
   "id": "1946fea1-5ddc-4f12-9ad7-2daeb51b4ef2",
   "metadata": {},
   "outputs": [
    {
     "name": "stdout",
     "output_type": "stream",
     "text": [
      "80\n"
     ]
    }
   ],
   "source": [
    "print(len(getOneHot(2)))"
   ]
  },
  {
   "cell_type": "code",
   "execution_count": 11,
   "id": "87133ac8-d144-43a7-812a-8a7203cc950f",
   "metadata": {},
   "outputs": [
    {
     "name": "stdout",
     "output_type": "stream",
     "text": [
      "[[0.]\n",
      " [0.]\n",
      " [1.]\n",
      " [0.]\n",
      " [0.]\n",
      " [0.]\n",
      " [0.]\n",
      " [0.]\n",
      " [0.]\n",
      " [0.]\n",
      " [0.]\n",
      " [0.]\n",
      " [0.]\n",
      " [0.]\n",
      " [0.]\n",
      " [0.]\n",
      " [0.]\n",
      " [0.]\n",
      " [0.]\n",
      " [0.]\n",
      " [0.]\n",
      " [0.]\n",
      " [0.]\n",
      " [0.]\n",
      " [0.]\n",
      " [0.]\n",
      " [0.]\n",
      " [0.]\n",
      " [0.]\n",
      " [0.]\n",
      " [0.]\n",
      " [0.]\n",
      " [0.]\n",
      " [0.]\n",
      " [0.]\n",
      " [0.]\n",
      " [0.]\n",
      " [0.]\n",
      " [0.]\n",
      " [0.]\n",
      " [0.]\n",
      " [0.]\n",
      " [0.]\n",
      " [0.]\n",
      " [0.]\n",
      " [0.]\n",
      " [0.]\n",
      " [0.]\n",
      " [0.]\n",
      " [0.]\n",
      " [0.]\n",
      " [0.]\n",
      " [0.]\n",
      " [0.]\n",
      " [0.]\n",
      " [0.]\n",
      " [0.]\n",
      " [0.]\n",
      " [0.]\n",
      " [0.]\n",
      " [0.]\n",
      " [0.]\n",
      " [0.]\n",
      " [0.]\n",
      " [0.]\n",
      " [0.]\n",
      " [0.]\n",
      " [0.]\n",
      " [0.]\n",
      " [0.]\n",
      " [0.]\n",
      " [0.]\n",
      " [0.]\n",
      " [0.]\n",
      " [0.]\n",
      " [0.]\n",
      " [0.]\n",
      " [0.]\n",
      " [0.]\n",
      " [0.]]\n"
     ]
    }
   ],
   "source": [
    "print(getOneHot(2))"
   ]
  },
  {
   "cell_type": "code",
   "execution_count": 14,
   "id": "7b3bfcc9-c930-4158-879e-c91e4da3474e",
   "metadata": {},
   "outputs": [],
   "source": [
    "numUnits = 50\n",
    "h0 = torch.tensor(np.zeros((numUnits,1)))\n",
    "Wh = torch.tensor(np.random.uniform(0,1,(numUnits,numUnits)),requires_grad = True)\n",
    "Wx = torch.tensor(np.random.uniform(0,1,(numUnits,numFeatures)),requires_grad = True)\n",
    "Wy = torch.tensor(np.random.uniform(0,1,(vocabSize,numUnits)),requires_grad = True)"
   ]
  },
  {
   "cell_type": "code",
   "execution_count": 15,
   "id": "e424ec6b-5683-45e1-a4bd-b4b22c81801f",
   "metadata": {},
   "outputs": [
    {
     "name": "stdout",
     "output_type": "stream",
     "text": [
      "torch.Size([50, 50]) torch.Size([50, 100]) torch.Size([80, 50]) torch.Size([50, 1])\n"
     ]
    }
   ],
   "source": [
    "print(Wh.shape, Wx.shape, Wy.shape, h0.shape)"
   ]
  },
  {
   "cell_type": "code",
   "execution_count": 20,
   "id": "6571b36f-489b-4f9b-af69-01114f11b4fb",
   "metadata": {},
   "outputs": [],
   "source": [
    "def stepForward(xt, Wx, Wh, Wy, prevMemory):\n",
    "    x_frd = torch.matmul(Wx, torch.from_numpy(xt))\n",
    "    h_frd = torch.matmul(Wh, prevMemory)\n",
    "    ht = torch.tanh(x_frd+h_frd)\n",
    "    yt_hat = F.softmax(torch.matmul(Wy, ht), dim= 0)\n",
    "    return ht,yt_hat"
   ]
  },
  {
   "cell_type": "code",
   "execution_count": 21,
   "id": "07b72070-43c3-48bf-9906-4bdb2a3296a3",
   "metadata": {},
   "outputs": [],
   "source": [
    "ht, yt_hat = stepForward(embeddings[0],Wx,Wh,Wy,h0)"
   ]
  },
  {
   "cell_type": "code",
   "execution_count": 22,
   "id": "05817820-205a-45f7-9302-ea2d6db50fc2",
   "metadata": {},
   "outputs": [
    {
     "data": {
      "text/plain": [
       "torch.Size([50, 1])"
      ]
     },
     "execution_count": 22,
     "metadata": {},
     "output_type": "execute_result"
    }
   ],
   "source": [
    "ht.shape"
   ]
  },
  {
   "cell_type": "code",
   "execution_count": 23,
   "id": "3a2dafb6-b266-44d2-8c74-741cbb4633e0",
   "metadata": {},
   "outputs": [
    {
     "data": {
      "text/plain": [
       "torch.Size([80, 1])"
      ]
     },
     "execution_count": 23,
     "metadata": {},
     "output_type": "execute_result"
    }
   ],
   "source": [
    "yt_hat.shape"
   ]
  },
  {
   "cell_type": "code",
   "execution_count": 24,
   "id": "a05a51f2-80a7-4098-ad6c-256236d10e11",
   "metadata": {},
   "outputs": [
    {
     "data": {
      "text/plain": [
       "tensor(1.0000, dtype=torch.float64, grad_fn=<SumBackward0>)"
      ]
     },
     "execution_count": 24,
     "metadata": {},
     "output_type": "execute_result"
    }
   ],
   "source": [
    "yt_hat.sum()"
   ]
  },
  {
   "cell_type": "code",
   "execution_count": 31,
   "id": "d6b8f2b0-82ff-42a6-a5f0-594ea82a5a49",
   "metadata": {},
   "outputs": [],
   "source": [
    "def fullForwardRNN(X, Wx, Wh, Wy, prevMemory):\n",
    "    y_hat = []\n",
    "    ht = prevMemory\n",
    "    for t in range(len(X)):\n",
    "        ht, yt_hat = stepForward(X[t],Wx,Wh, Wy, prevMemory)\n",
    "        prevMemory = ht\n",
    "        y_hat.append(yt_hat)\n",
    "    return y_hat"
   ]
  },
  {
   "cell_type": "code",
   "execution_count": 34,
   "id": "d360e6d0-f63a-4246-a3f0-7729bd56702a",
   "metadata": {},
   "outputs": [],
   "source": [
    "y_hat = fullForwardRNN(embeddings,Wx,Wh,Wy,h0)"
   ]
  },
  {
   "cell_type": "code",
   "execution_count": 35,
   "id": "9e6dd05a-3eb2-4a07-83b7-db25a831459b",
   "metadata": {},
   "outputs": [
    {
     "data": {
      "text/plain": [
       "5"
      ]
     },
     "execution_count": 35,
     "metadata": {},
     "output_type": "execute_result"
    }
   ],
   "source": [
    "len(y_hat)"
   ]
  },
  {
   "cell_type": "code",
   "execution_count": 36,
   "id": "1c207831-451f-48c1-b8d5-1e7bf9251116",
   "metadata": {},
   "outputs": [
    {
     "data": {
      "text/plain": [
       "torch.Size([80, 1])"
      ]
     },
     "execution_count": 36,
     "metadata": {},
     "output_type": "execute_result"
    }
   ],
   "source": [
    "y_hat[0].shape"
   ]
  },
  {
   "cell_type": "code",
   "execution_count": 40,
   "id": "b3b54b5e-c0d2-45e8-9b8c-d7f045886c8d",
   "metadata": {},
   "outputs": [],
   "source": [
    "def computeLoss(y,y_hat):\n",
    "    loss = 0\n",
    "    for yi, yi_hat in zip(y, y_hat):\n",
    "        Li= -torch.log2(yi_hat[yi==1])\n",
    "        loss+= Li\n",
    "    return loss"
   ]
  },
  {
   "cell_type": "code",
   "execution_count": 41,
   "id": "5c73a568-a081-4e3c-a282-9bb2289c188a",
   "metadata": {},
   "outputs": [],
   "source": [
    "y = []\n",
    "for idx in outputString:\n",
    "    y.append(getOneHot(idx))\n"
   ]
  },
  {
   "cell_type": "code",
   "execution_count": 42,
   "id": "1d0d6949-b3ea-482e-8b35-2db3db512085",
   "metadata": {},
   "outputs": [
    {
     "name": "stdout",
     "output_type": "stream",
     "text": [
      "tensor([42.5490], dtype=torch.float64, grad_fn=<AddBackward0>)\n"
     ]
    }
   ],
   "source": [
    "print(computeLoss(y,y_hat))"
   ]
  },
  {
   "cell_type": "code",
   "execution_count": 52,
   "id": "34c76b34-39ee-44fc-a001-7b087267aef1",
   "metadata": {},
   "outputs": [],
   "source": [
    "def updateParams(Wx,Wh,Wy,dWx, dWh,dWy, lr):\n",
    "    with torch.no_grad():\n",
    "        Wx -= lr*dWx \n",
    "        Wh -= lr*dWh\n",
    "        Wy -= lr*dWy\n",
    "    return Wx, Wh, Wy"
   ]
  },
  {
   "cell_type": "code",
   "execution_count": 53,
   "id": "22c571ae-5ae9-4bd8-839d-7e4c2fb0d145",
   "metadata": {},
   "outputs": [],
   "source": [
    "def trainRnn(X, y, Wx, Wh, Wy, prevMemory, lr, nepoch):\n",
    "    losses = []\n",
    "    for epoch in range(nepoch):\n",
    "        y_hat = fullForwardRNN(X, Wx,Wh,Wy,prevMemory)\n",
    "        loss = computeLoss(y, y_hat)\n",
    "        loss.backward()\n",
    "        losses.append(loss)\n",
    "        print(\"Loss after epoch = %d: %f\" %(epoch,loss))\n",
    "        sys.stdout.flush()\n",
    "        dWx = Wx.grad.data\n",
    "        dWh = Wh.grad.data\n",
    "        dWy = Wy.grad.data\n",
    "        Wx,Wh,Wy = updateParams(Wx,Wh,Wy,dWx, dWh,dWy, lr)\n",
    "        Wx.grad.data.zero_()\n",
    "        Wh.grad.data.zero_()\n",
    "        Wy.grad.data.zero_()\n",
    "    return Wx, Wh, Wy, losses\n"
   ]
  },
  {
   "cell_type": "code",
   "execution_count": 54,
   "id": "e8c59a8d-a64b-4960-a283-352691f870e7",
   "metadata": {},
   "outputs": [
    {
     "name": "stdout",
     "output_type": "stream",
     "text": [
      "Loss after epoch = 0: 41.389683\n",
      "Loss after epoch = 1: 39.686380\n",
      "Loss after epoch = 2: 39.141189\n",
      "Loss after epoch = 3: 38.602741\n",
      "Loss after epoch = 4: 38.070988\n",
      "Loss after epoch = 5: 37.545886\n",
      "Loss after epoch = 6: 37.027390\n",
      "Loss after epoch = 7: 36.515458\n",
      "Loss after epoch = 8: 36.010044\n",
      "Loss after epoch = 9: 35.511102\n",
      "Loss after epoch = 10: 35.018583\n",
      "Loss after epoch = 11: 34.532435\n",
      "Loss after epoch = 12: 34.052606\n",
      "Loss after epoch = 13: 33.579040\n",
      "Loss after epoch = 14: 33.111681\n",
      "Loss after epoch = 15: 32.650474\n",
      "Loss after epoch = 16: 32.195362\n",
      "Loss after epoch = 17: 31.746290\n",
      "Loss after epoch = 18: 31.303204\n",
      "Loss after epoch = 19: 30.866054\n",
      "Loss after epoch = 20: 30.434790\n",
      "Loss after epoch = 21: 30.009369\n",
      "Loss after epoch = 22: 29.589753\n",
      "Loss after epoch = 23: 29.175906\n",
      "Loss after epoch = 24: 28.767803\n",
      "Loss after epoch = 25: 28.365423\n",
      "Loss after epoch = 26: 27.968755\n",
      "Loss after epoch = 27: 27.577797\n",
      "Loss after epoch = 28: 27.192559\n",
      "Loss after epoch = 29: 26.813059\n",
      "Loss after epoch = 30: 26.439329\n",
      "Loss after epoch = 31: 26.071408\n",
      "Loss after epoch = 32: 25.709350\n",
      "Loss after epoch = 33: 25.353214\n",
      "Loss after epoch = 34: 25.003067\n",
      "Loss after epoch = 35: 24.658979\n",
      "Loss after epoch = 36: 24.321020\n",
      "Loss after epoch = 37: 23.989258\n",
      "Loss after epoch = 38: 23.663754\n",
      "Loss after epoch = 39: 23.344560\n",
      "Loss after epoch = 40: 23.031715\n",
      "Loss after epoch = 41: 22.725245\n",
      "Loss after epoch = 42: 22.425161\n",
      "Loss after epoch = 43: 22.131457\n",
      "Loss after epoch = 44: 21.844114\n",
      "Loss after epoch = 45: 21.563098\n",
      "Loss after epoch = 46: 21.288360\n",
      "Loss after epoch = 47: 21.019839\n",
      "Loss after epoch = 48: 20.757465\n",
      "Loss after epoch = 49: 20.501155\n",
      "Loss after epoch = 50: 20.250820\n",
      "Loss after epoch = 51: 20.006364\n",
      "Loss after epoch = 52: 19.767682\n",
      "Loss after epoch = 53: 19.534667\n",
      "Loss after epoch = 54: 19.307205\n",
      "Loss after epoch = 55: 19.085182\n",
      "Loss after epoch = 56: 18.868477\n",
      "Loss after epoch = 57: 18.656970\n",
      "Loss after epoch = 58: 18.450539\n",
      "Loss after epoch = 59: 18.249060\n",
      "Loss after epoch = 60: 18.052409\n",
      "Loss after epoch = 61: 17.860465\n",
      "Loss after epoch = 62: 17.673103\n",
      "Loss after epoch = 63: 17.490203\n",
      "Loss after epoch = 64: 17.311646\n",
      "Loss after epoch = 65: 17.137313\n",
      "Loss after epoch = 66: 16.967091\n",
      "Loss after epoch = 67: 16.800867\n",
      "Loss after epoch = 68: 16.638532\n",
      "Loss after epoch = 69: 16.479983\n",
      "Loss after epoch = 70: 16.325116\n",
      "Loss after epoch = 71: 16.173836\n",
      "Loss after epoch = 72: 16.026049\n",
      "Loss after epoch = 73: 15.881668\n",
      "Loss after epoch = 74: 15.740607\n",
      "Loss after epoch = 75: 15.602789\n",
      "Loss after epoch = 76: 15.468137\n",
      "Loss after epoch = 77: 15.336582\n",
      "Loss after epoch = 78: 15.208058\n",
      "Loss after epoch = 79: 15.082503\n",
      "Loss after epoch = 80: 14.959860\n",
      "Loss after epoch = 81: 14.840076\n",
      "Loss after epoch = 82: 14.723101\n",
      "Loss after epoch = 83: 14.608889\n",
      "Loss after epoch = 84: 14.497397\n",
      "Loss after epoch = 85: 14.388585\n",
      "Loss after epoch = 86: 14.282416\n",
      "Loss after epoch = 87: 14.178855\n",
      "Loss after epoch = 88: 14.077867\n",
      "Loss after epoch = 89: 13.979422\n",
      "Loss after epoch = 90: 13.883489\n",
      "Loss after epoch = 91: 13.790039\n",
      "Loss after epoch = 92: 13.699041\n",
      "Loss after epoch = 93: 13.610467\n",
      "Loss after epoch = 94: 13.524288\n",
      "Loss after epoch = 95: 13.440473\n",
      "Loss after epoch = 96: 13.358992\n",
      "Loss after epoch = 97: 13.279814\n",
      "Loss after epoch = 98: 13.202906\n",
      "Loss after epoch = 99: 13.128233\n"
     ]
    }
   ],
   "source": [
    "Wx, Wh, Wy, losses = trainRnn(embeddings, y, Wx, Wh, Wy, h0, 0.001, 100)"
   ]
  }
 ],
 "metadata": {
  "kernelspec": {
   "display_name": "Python 3 (ipykernel)",
   "language": "python",
   "name": "python3"
  },
  "language_info": {
   "codemirror_mode": {
    "name": "ipython",
    "version": 3
   },
   "file_extension": ".py",
   "mimetype": "text/x-python",
   "name": "python",
   "nbconvert_exporter": "python",
   "pygments_lexer": "ipython3",
   "version": "3.12.11"
  }
 },
 "nbformat": 4,
 "nbformat_minor": 5
}
