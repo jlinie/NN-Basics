{
 "cells": [
  {
   "cell_type": "code",
   "execution_count": 1,
   "id": "1d9b35da-a949-4935-a4f9-f63ae64c57ca",
   "metadata": {},
   "outputs": [],
   "source": [
    "import tensorflow as tf\n",
    "import matplotlib.pyplot as plt\n",
    "import matplotlib.ticker as ticker\n",
    "from sklearn.model_selection import train_test_split\n",
    "import unicodedata\n",
    "import re\n",
    "import numpy as np\n",
    "import os\n",
    "import io\n",
    "import time"
   ]
  },
  {
   "cell_type": "code",
   "execution_count": 16,
   "id": "236f3415-cd1f-4656-8873-01832b3c92ce",
   "metadata": {},
   "outputs": [
    {
     "name": "stdout",
     "output_type": "stream",
     "text": [
      "/Users/ceylinekinci/.keras/datasets/spa-eng_extracted/spa-eng/spa.txt\n"
     ]
    }
   ],
   "source": [
    "path_to_zip = tf.keras.utils.get_file(\n",
    "    'spa-eng.zip', origin='http://storage.googleapis.com/download.tensorflow.org/data/spa-eng.zip',\n",
    "    extract=True)\n",
    "\n",
    "path_to_file = os.path.join(path_to_zip, \"spa-eng\", \"spa.txt\")\n",
    "print(path_to_file) "
   ]
  },
  {
   "cell_type": "code",
   "execution_count": 9,
   "id": "98bbb549-3e00-4d29-b64b-1f96ea2e000d",
   "metadata": {},
   "outputs": [],
   "source": [
    "def unicode_to_ascii(s):\n",
    "    return ''.join(c for c in unicodedata.normalize('NFD', s)\n",
    "        if unicodedata.category(c) != 'Mn')"
   ]
  },
  {
   "cell_type": "code",
   "execution_count": 10,
   "id": "f5793210-c1f3-4167-b59e-f7d80a0c0c39",
   "metadata": {},
   "outputs": [],
   "source": [
    "def preprocess_sentence(w):\n",
    "    w = unicode_to_ascii(w.lower().strip())\n",
    "\n",
    "    w = re.sub(r\"([?.!,¿])\", r\" \\1 \", w)\n",
    "    w = re.sub(r'[\" \"]+', \" \", w)\n",
    "\n",
    "    w = re.sub(r\"[^a-zA-Z?.!,¿]+\", \" \", w)\n",
    "\n",
    "    w = w.rstrip().strip()\n",
    "\n",
    "    w = '<start> ' + w + ' <end>'\n",
    "    return w"
   ]
  },
  {
   "cell_type": "code",
   "execution_count": 11,
   "id": "0fcd3ed0-45ac-4b5a-855d-e32529073234",
   "metadata": {},
   "outputs": [
    {
     "name": "stdout",
     "output_type": "stream",
     "text": [
      "<start> may i borrow this book ? <end>\n",
      "b'<start> \\xc2\\xbf puedo tomar prestado este libro ? <end>'\n"
     ]
    }
   ],
   "source": [
    "en_sentence = u\"May I borrow this book?\"\n",
    "sp_sentence = u\"¿Puedo tomar prestado este libro?\"\n",
    "print(preprocess_sentence(en_sentence))\n",
    "print(preprocess_sentence(sp_sentence).encode('utf-8'))"
   ]
  },
  {
   "cell_type": "code",
   "execution_count": 12,
   "id": "5d521a93-9e5c-4eed-8b30-3666a32a9f48",
   "metadata": {},
   "outputs": [],
   "source": [
    "def create_dataset(path, num_examples):\n",
    "    lines = io.open(path, encoding='UTF-8').read().strip().split('\\n')\n",
    "\n",
    "    word_pairs = [[preprocess_sentence(w) for w in l.split('\\t')]  for l in lines[:num_examples]]\n",
    "\n",
    "    return zip(*word_pairs)"
   ]
  },
  {
   "cell_type": "code",
   "execution_count": 13,
   "id": "5cd23dc0-0d7a-431b-b6c2-9414d8a055ff",
   "metadata": {},
   "outputs": [
    {
     "name": "stdout",
     "output_type": "stream",
     "text": [
      "/Users/ceylinekinci/.keras/datasets/spa-eng_extracted\n"
     ]
    }
   ],
   "source": [
    "print(path_to_zip)\n"
   ]
  },
  {
   "cell_type": "code",
   "execution_count": 21,
   "id": "5c309524-94e6-45be-92af-210eb09e0af2",
   "metadata": {},
   "outputs": [
    {
     "name": "stdout",
     "output_type": "stream",
     "text": [
      "<start> if you want to sound like a native speaker , you must be willing to practice saying the same sentence over and over in the same way that banjo players practice the same phrase over and over until they can play it correctly and at the desired tempo . <end>\n",
      "<start> si quieres sonar como un hablante nativo , debes estar dispuesto a practicar diciendo la misma frase una y otra vez de la misma manera en que un musico de banjo practica el mismo fraseo una y otra vez hasta que lo puedan tocar correctamente y en el tiempo esperado . <end>\n"
     ]
    }
   ],
   "source": [
    "en, sp = create_dataset(path_to_file, None)\n",
    "print(en[-1])\n",
    "print(sp[-1])"
   ]
  },
  {
   "cell_type": "code",
   "execution_count": 22,
   "id": "0e9e089d-9c70-4495-99d3-371d07fbbc9a",
   "metadata": {},
   "outputs": [
    {
     "name": "stdout",
     "output_type": "stream",
     "text": [
      "18 18\n",
      "18 20\n",
      "18 20\n",
      "18 22\n",
      "18 20\n",
      "19 21\n",
      "19 22\n",
      "19 23\n",
      "20 21\n",
      "20 24\n",
      "20 24\n",
      "20 21\n",
      "20 33\n",
      "20 23\n",
      "20 21\n",
      "20 21\n",
      "20 21\n",
      "20 20\n",
      "20 20\n",
      "20 22\n",
      "20 23\n",
      "21 24\n",
      "21 24\n",
      "21 20\n",
      "21 21\n",
      "21 22\n",
      "21 26\n",
      "21 25\n",
      "21 23\n",
      "21 33\n",
      "21 22\n",
      "22 25\n",
      "22 22\n",
      "22 23\n",
      "22 30\n",
      "22 24\n",
      "22 27\n",
      "22 28\n",
      "22 25\n",
      "22 30\n",
      "22 24\n",
      "22 22\n",
      "22 24\n",
      "22 20\n",
      "22 21\n",
      "22 21\n",
      "22 22\n",
      "22 24\n",
      "22 32\n",
      "19 32\n",
      "22 31\n",
      "22 23\n",
      "22 23\n",
      "22 24\n",
      "22 28\n",
      "22 33\n",
      "22 33\n",
      "22 25\n",
      "22 30\n",
      "22 27\n",
      "22 26\n",
      "22 22\n",
      "22 21\n",
      "22 26\n",
      "22 26\n",
      "22 27\n",
      "22 23\n",
      "22 23\n",
      "22 24\n",
      "22 29\n",
      "22 23\n",
      "22 28\n",
      "23 32\n",
      "23 21\n",
      "23 33\n",
      "23 32\n",
      "23 24\n",
      "23 29\n",
      "23 28\n",
      "23 22\n",
      "23 23\n",
      "23 24\n",
      "23 23\n",
      "23 24\n",
      "23 21\n",
      "23 20\n",
      "23 22\n",
      "23 21\n",
      "23 22\n",
      "23 21\n",
      "23 24\n",
      "23 28\n",
      "23 22\n",
      "23 21\n",
      "23 19\n",
      "23 20\n",
      "23 21\n",
      "23 22\n",
      "23 28\n",
      "23 23\n"
     ]
    }
   ],
   "source": [
    "for i in range(100):\n",
    "    print(len(en[i]), len(sp[i]))"
   ]
  },
  {
   "cell_type": "code",
   "execution_count": 23,
   "id": "6339daa9-de0b-4cd8-97aa-c1a846c95640",
   "metadata": {},
   "outputs": [
    {
     "data": {
      "text/plain": [
       "118964"
      ]
     },
     "execution_count": 23,
     "metadata": {},
     "output_type": "execute_result"
    }
   ],
   "source": [
    "len(en)"
   ]
  },
  {
   "cell_type": "code",
   "execution_count": 18,
   "id": "561fc384-a721-42e0-a37d-716752f96cb4",
   "metadata": {},
   "outputs": [],
   "source": [
    "def max_length(tensor):\n",
    "    return max(len(t) for t in tensor)"
   ]
  },
  {
   "cell_type": "code",
   "execution_count": 19,
   "id": "3e59f9a1-961c-48a0-aace-015fdfe9a76e",
   "metadata": {},
   "outputs": [],
   "source": [
    "def tokenize(lang):\n",
    "  lang_tokenizer = tf.keras.preprocessing.text.Tokenizer(\n",
    "      filters='')\n",
    "  lang_tokenizer.fit_on_texts(lang)\n",
    "\n",
    "  tensor = lang_tokenizer.texts_to_sequences(lang)\n",
    "\n",
    "  tensor = tf.keras.preprocessing.sequence.pad_sequences(tensor,\n",
    "                                                         padding='post')\n",
    "\n",
    "  return tensor, lang_tokenizer"
   ]
  },
  {
   "cell_type": "code",
   "execution_count": 20,
   "id": "d58ae04e-156c-4f04-a1eb-f8551d5f741e",
   "metadata": {},
   "outputs": [],
   "source": [
    "def load_dataset(path, num_examples=None):\n",
    "    targ_lang, inp_lang = create_dataset(path, num_examples)\n",
    "\n",
    "    input_tensor, inp_lang_tokenizer = tokenize(inp_lang)\n",
    "    target_tensor, targ_lang_tokenizer = tokenize(targ_lang)\n",
    "\n",
    "    return input_tensor, target_tensor, inp_lang_tokenizer, targ_lang_tokenizer"
   ]
  }
 ],
 "metadata": {
  "kernelspec": {
   "display_name": "Python 3 (ipykernel)",
   "language": "python",
   "name": "python3"
  },
  "language_info": {
   "codemirror_mode": {
    "name": "ipython",
    "version": 3
   },
   "file_extension": ".py",
   "mimetype": "text/x-python",
   "name": "python",
   "nbconvert_exporter": "python",
   "pygments_lexer": "ipython3",
   "version": "3.12.11"
  }
 },
 "nbformat": 4,
 "nbformat_minor": 5
}
